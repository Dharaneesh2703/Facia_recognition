{
 "cells": [
  {
   "cell_type": "code",
   "execution_count": null,
   "id": "351bbec9-1c8b-4d20-ada2-ba0956a4a689",
   "metadata": {},
   "outputs": [],
   "source": [
    "import cv2 as cv\n",
    "import os\n",
    "import numpy as np\n",
    "import pickle\n",
    "\n",
    "from mtcnn import MTCNN\n",
    "from keras_facenet import FaceNet\n",
    "from sklearn.preprocessing import LabelEncoder\n",
    "from sklearn.svm import SVC\n",
    "from sklearn.metrics import accuracy_score, confusion_matrix\n",
    "import matplotlib.pyplot as plt"
   ]
  },
  {
   "cell_type": "code",
   "execution_count": null,
   "id": "b5663e0f-ab5b-4feb-bbe1-6e8f43a5901f",
   "metadata": {},
   "outputs": [],
   "source": [
    "\n",
    "class FACELOADING:\n",
    "    def __init__(self, model_file, encoder_file):\n",
    "        self.target_size = (100, 100)\n",
    "        self.detector = MTCNN()\n",
    "        self.embedder = FaceNet()\n",
    "        self.model = pickle.load(open(model_file, 'rb'))\n",
    "        self.encoder = pickle.load(open(encoder_file, 'rb'))\n",
    "\n",
    "    def recognize_face(self):\n",
    "        cap = cv.VideoCapture(0)\n",
    "        while True:\n",
    "            ret, frame = cap.read()\n",
    "            if ret:\n",
    "                frame = cv.flip(frame, 1)  # flip the frame horizontally for a mirror effect\n",
    "                frame = cv.cvtColor(frame, cv.COLOR_BGR2RGB)\n",
    "                results = self.detector.detect_faces(frame)\n",
    "                if results:\n",
    "                    for result in results:\n",
    "                        x, y, w, h = result['box']\n",
    "                        x, y = abs(x), abs(y)\n",
    "                        face = frame[y:y+h, x:x+w]\n",
    "                        face_arr = cv.resize(face, self.target_size)\n",
    "                        face_embedded = self.embedder.embeddings(np.asarray([face_arr]))\n",
    "                        pred_encoded = self.model.predict(face_embedded)\n",
    "                        pred_proba = self.model.predict_proba(face_embedded)\n",
    "                        pred_proba = np.max(pred_proba) * 100\n",
    "                        if pred_encoded in self.encoder.transform(self.encoder.classes_):\n",
    "                            pred_name = self.encoder.inverse_transform(pred_encoded)\n",
    "                            cv.rectangle(frame, (x, y), (x+w, y+h), (0, 255, 0), 2)\n",
    "                            cv.putText(frame, f\"{pred_name[0]} ({pred_proba:.2f}%)\", (x, y-10), cv.FONT_HERSHEY_SIMPLEX, 0.9, (0, 255, 0), 2)\n",
    "                        else:\n",
    "                            cv.rectangle(frame, (x, y), (x+w, y+h), (0, 0, 255), 2)\n",
    "                            cv.putText(frame, \"Unrecognized face: Entry denied\", (x, y-10), cv.FONT_HERSHEY_SIMPLEX, 0.9, (0, 0, 255), 2)\n",
    "                cv.imshow('frame', frame)\n",
    "                if cv.waitKey(1) == ord('q'):\n",
    "                    break\n",
    "            else:\n",
    "                break\n",
    "        cap.release()\n",
    "        cv.destroyAllWindows()\n",
    "\n",
    "# Define the paths to the pre-trained model and label encoder files\n",
    "model_file = \"trained_model.pkl\"\n",
    "encoder_file = \"label_encoder.pkl\"\n",
    "\n",
    "faceloading = FACELOADING(model_file, encoder_file)\n",
    "faceloading.recognize_face()"
   ]
  }
 ],
 "metadata": {
  "kernelspec": {
   "display_name": "Python 3 (ipykernel)",
   "language": "python",
   "name": "python3"
  },
  "language_info": {
   "codemirror_mode": {
    "name": "ipython",
    "version": 3
   },
   "file_extension": ".py",
   "mimetype": "text/x-python",
   "name": "python",
   "nbconvert_exporter": "python",
   "pygments_lexer": "ipython3",
   "version": "3.11.5"
  }
 },
 "nbformat": 4,
 "nbformat_minor": 5
}
