{
 "cells": [
  {
   "cell_type": "code",
   "execution_count": 1,
   "id": "89b3d68a-1150-4024-8b74-bd55cdbe4e92",
   "metadata": {},
   "outputs": [
    {
     "ename": "SyntaxError",
     "evalue": "(unicode error) 'unicodeescape' codec can't decode bytes in position 2-3: truncated \\UXXXXXXXX escape (3193418428.py, line 5)",
     "output_type": "error",
     "traceback": [
      "\u001b[1;36m  Cell \u001b[1;32mIn[1], line 5\u001b[1;36m\u001b[0m\n\u001b[1;33m    dataset_dir = 'C:\\Users\\91866\\OneDrive - Amrita Vishwa Vidyapeetham\\Desktop\\git\\live_facial_recognition\\face_recognization\\dataset'\u001b[0m\n\u001b[1;37m                                                                                                                                       ^\u001b[0m\n\u001b[1;31mSyntaxError\u001b[0m\u001b[1;31m:\u001b[0m (unicode error) 'unicodeescape' codec can't decode bytes in position 2-3: truncated \\UXXXXXXXX escape\n"
     ]
    }
   ],
   "source": [
    "import cv2\n",
    "import os\n",
    "\n",
    "# Define the directory where the dataset will be saved\n",
    "dataset_dir = 'C:/Users/91866/OneDrive - Amrita Vishwa Vidyapeetham/Desktop/git/live_facial_recognition/face_recognization/dataset'\n",
    "\n",
    "\n",
    "# Create the dataset directory if it does not exist\n",
    "if not os.path.exists(dataset_dir):\n",
    "    os.makedirs(dataset_dir)\n",
    "\n",
    "# Initialize the webcam (change to 0 if you're using the default camera)\n",
    "cap = cv2.VideoCapture(0)\n",
    "\n",
    "# Define the face detector\n",
    "face_detector = cv2.CascadeClassifier(cv2.data.haarcascades + 'haarcascade_frontalface_default.xml')\n",
    "\n",
    "# Initialize a counter for the number of images captured\n",
    "img_counter = 0\n",
    "\n",
    "# Ask for the person's name\n",
    "name = input(\"Enter the person's name: \")\n",
    "\n",
    "# Create a folder in the dataset directory with the person's name\n",
    "person_dir = os.path.join(dataset_dir, name)\n",
    "if not os.path.exists(person_dir):\n",
    "    os.makedirs(person_dir)\n",
    "\n",
    "# Capture images until 10 images are captured\n",
    "while img_counter < 10:\n",
    "    # Read a frame from the webcam\n",
    "    ret, frame = cap.read()\n",
    "\n",
    "    if not ret:\n",
    "        print(\"Error: Could not capture an image.\")\n",
    "        break\n",
    "\n",
    "    # Convert the frame to grayscale\n",
    "    gray = cv2.cvtColor(frame, cv2.COLOR_BGR2GRAY)\n",
    "\n",
    "    # Detect faces in the frame\n",
    "    faces = face_detector.detectMultiScale(gray, scaleFactor=1.3, minNeighbors=5)\n",
    "    \n",
    "    if len(faces) == 1:\n",
    "        (x, y, w, h) = faces[0]\n",
    "\n",
    "        # Crop the face region from the frame\n",
    "        face = gray[y:y+h, x:x+w]\n",
    "        \n",
    "        # Perform intensity normalization on the face\n",
    "        face_normalized = cv2.equalizeHist(face)\n",
    "\n",
    "        # Resize the face image to a fixed size (e.g., 100x100)\n",
    "        resized_face = cv2.resize(face_normalized, (100, 100))\n",
    "\n",
    "        # Save the flattened face image\n",
    "        img_name = os.path.join(person_dir, f\"{name}_{img_counter}.jpg\")\n",
    "        cv2.imwrite(img_name, resized_face)\n",
    "\n",
    "        img_counter += 1\n",
    "    elif len(faces) > 1:\n",
    "        print(\"Multiple faces detected. Please ensure only 1 face is present.\")\n",
    "    else:\n",
    "\n",
    "        print(\"No face detected. Please position your face correctly.\")\n",
    "\n",
    "# Release the camera\n",
    "cap.release()\n"
   ]
  },
  {
   "cell_type": "code",
   "execution_count": null,
   "id": "0938cbb7",
   "metadata": {},
   "outputs": [],
   "source": []
  },
  {
   "cell_type": "code",
   "execution_count": null,
   "id": "2121dfb1",
   "metadata": {},
   "outputs": [],
   "source": []
  }
 ],
 "metadata": {
  "kernelspec": {
   "display_name": "Python 3 (ipykernel)",
   "language": "python",
   "name": "python3"
  },
  "language_info": {
   "codemirror_mode": {
    "name": "ipython",
    "version": 3
   },
   "file_extension": ".py",
   "mimetype": "text/x-python",
   "name": "python",
   "nbconvert_exporter": "python",
   "pygments_lexer": "ipython3",
   "version": "3.11.5"
  }
 },
 "nbformat": 4,
 "nbformat_minor": 5
}
